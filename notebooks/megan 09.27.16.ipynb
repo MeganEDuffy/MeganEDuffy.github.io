{
 "cells": [
  {
   "cell_type": "markdown",
   "metadata": {},
   "source": [
    "Trying to convert Waters MSe files (.raw directories) to .mzXML format. If we had DDA files, this could be done in massWolf (according to http://tools.proteomecenter.org/wiki/index.php?title=Formats:mzXML)\n",
    "\n",
    "In PLGS, tried to peak peak a file (062016_ETNP 129.raw) with .mgf output (this format for Novor de novo sequencing).\n",
    "\n",
    "In the PLGS project 'ETNP Offshore', Options/Automatic setup/Spectrum output -> select .mgf output and output directory (/Jaqui/MGF)\n",
    "\n",
    "In the microplate view, right click on sample (A5) to 'Process latest raw data'. PLGS returned a 3 KB output file...why so small?  The corresponding sample (worse chromoatography), 061516_ETNP 129.mgf, was about 73 MB.\n",
    "\n",
    "Turns out we were only peak picking a slice of the file (35-40 min). Editing the processing parameters, we were able to change the settings so all the .raw data was processed. \n",
    "\n",
    "With the correct input, PLGS returned an appropriatly sized .mgf file (63 MB)."
   ]
  },
  {
   "cell_type": "markdown",
   "metadata": {},
   "source": [
    "Similarly to converting the .raw directory to .mgf, also used PLGS to peak pick with .mzML output. Same process as above, but selected .mzML, with the choice of MSn mxML (not MS1 mzML). \n",
    "\n",
    "This returned 3 files to our output directory: an XML document, and two bin files. What would we do with these? These aren't specta formats, are they?\n",
    "\n",
    "Tried the same processing but chose the other option, MS1 mzML. This did return us an .mzML file (458 KB), but did we lose our MS2 info?"
   ]
  },
  {
   "cell_type": "markdown",
   "metadata": {},
   "source": [
    "Coverted the PLGS-generated .mzML file to .mzXML using MSConvert, using the default settings and no filters. MSConvert returned our .mzXML file, 062016_ETNP 129.mzXML (104 KB)."
   ]
  }
 ],
 "metadata": {
  "anaconda-cloud": {},
  "kernelspec": {
   "display_name": "Python [default]",
   "language": "python",
   "name": "python3"
  },
  "language_info": {
   "codemirror_mode": {
    "name": "ipython",
    "version": 3
   },
   "file_extension": ".py",
   "mimetype": "text/x-python",
   "name": "python",
   "nbconvert_exporter": "python",
   "pygments_lexer": "ipython3",
   "version": "3.5.2"
  }
 },
 "nbformat": 4,
 "nbformat_minor": 1
}
